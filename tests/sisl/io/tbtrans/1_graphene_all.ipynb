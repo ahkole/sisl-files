{
 "cells": [
  {
   "cell_type": "markdown",
   "metadata": {},
   "source": [
    "# Example 1_graphene_all"
   ]
  },
  {
   "cell_type": "code",
   "execution_count": 1,
   "metadata": {},
   "outputs": [],
   "source": [
    "NAME = '1_graphene_all'"
   ]
  },
  {
   "cell_type": "code",
   "execution_count": 2,
   "metadata": {},
   "outputs": [],
   "source": [
    "import numpy as np\n",
    "import sisl as s"
   ]
  },
  {
   "cell_type": "markdown",
   "metadata": {},
   "source": [
    "This test creates input for a graphene tight-binding model for TBtrans and can produce the necessary input for a small test regarding $k$-point averaging as well as all parts of the DOS."
   ]
  },
  {
   "cell_type": "code",
   "execution_count": 3,
   "metadata": {},
   "outputs": [],
   "source": [
    "R = (0.1, 1.44)\n",
    "hop = (0., -2.7)"
   ]
  },
  {
   "cell_type": "code",
   "execution_count": 4,
   "metadata": {},
   "outputs": [],
   "source": [
    "gr = s.geom.graphene(orthogonal=True)"
   ]
  },
  {
   "cell_type": "code",
   "execution_count": 5,
   "metadata": {},
   "outputs": [],
   "source": [
    "H_elec = s.Hamiltonian(gr)\n",
    "H_elec.construct([R, hop])"
   ]
  },
  {
   "cell_type": "markdown",
   "metadata": {},
   "source": [
    "Save the electrode Hamiltonian:"
   ]
  },
  {
   "cell_type": "code",
   "execution_count": 6,
   "metadata": {},
   "outputs": [],
   "source": [
    "H_elec.write('{}_ELEC.nc'.format(NAME))"
   ]
  },
  {
   "cell_type": "markdown",
   "metadata": {},
   "source": [
    "Also write out the device Hamiltonian."
   ]
  },
  {
   "cell_type": "code",
   "execution_count": 7,
   "metadata": {},
   "outputs": [],
   "source": [
    "H_elec.tile(3, 0).tile(5, 1).write('{}_DEVICE.nc'.format(NAME))"
   ]
  },
  {
   "cell_type": "markdown",
   "metadata": {},
   "source": [
    "Now create input for TBtrans:"
   ]
  },
  {
   "cell_type": "code",
   "execution_count": 8,
   "metadata": {},
   "outputs": [
    {
     "data": {
      "text/plain": [
       "638"
      ]
     },
     "execution_count": 8,
     "metadata": {},
     "output_type": "execute_result"
    }
   ],
   "source": [
    "fdf = \"\"\"\n",
    "SystemLabel {0}\n",
    "TBT.HS {0}_DEVICE.nc\n",
    "\n",
    "# Store in compressed format\n",
    "TBT.CDF.Compress 9\n",
    "\n",
    "# Transmission related quantities\n",
    "TBT.T.All T\n",
    "TBT.T.Out T\n",
    "TBT.T.Eig 2\n",
    "\n",
    "# Density of states\n",
    "TBT.DOS.Elecs T\n",
    "TBT.DOS.Gf T\n",
    "TBT.DOS.A T\n",
    "TBT.DOS.A.All T\n",
    "\n",
    "# Orbital currents and Crystal-Orbital investigations.\n",
    "TBT.Symmetry.TimeReversal F\n",
    "TBT.Current.Orb T\n",
    "TBT.COOP.Gf T\n",
    "TBT.COOP.A T\n",
    "TBT.COHP.Gf T\n",
    "TBT.COHP.A T\n",
    "\n",
    "TBT.k [100 1 1]\n",
    "\n",
    "# Input for electrodes\n",
    "%block TBT.Elec.Left\n",
    "  HS {0}_ELEC.nc\n",
    "  bloch-A1 3\n",
    "  semi-inf-dir -A2\n",
    "%endblock\n",
    "%block TBT.Elec.Right\n",
    "  HS {0}_ELEC.nc\n",
    "  bloch-A1 3\n",
    "  semi-inf-dir +A2\n",
    "%endblock\n",
    "\"\"\"\n",
    "open('{}.fdf'.format(NAME), 'w').write(fdf.format(NAME))"
   ]
  },
  {
   "cell_type": "code",
   "execution_count": null,
   "metadata": {},
   "outputs": [],
   "source": []
  }
 ],
 "metadata": {
  "kernelspec": {
   "display_name": "Python 3",
   "language": "python",
   "name": "python3"
  },
  "language_info": {
   "codemirror_mode": {
    "name": "ipython",
    "version": 3
   },
   "file_extension": ".py",
   "mimetype": "text/x-python",
   "name": "python",
   "nbconvert_exporter": "python",
   "pygments_lexer": "ipython3",
   "version": "3.6.4"
  }
 },
 "nbformat": 4,
 "nbformat_minor": 2
}
